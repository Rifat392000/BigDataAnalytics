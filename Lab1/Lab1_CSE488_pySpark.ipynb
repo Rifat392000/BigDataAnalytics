{
  "nbformat": 4,
  "nbformat_minor": 0,
  "metadata": {
    "colab": {
      "provenance": []
    },
    "kernelspec": {
      "name": "python3",
      "display_name": "Python 3"
    },
    "language_info": {
      "name": "python"
    },
    "accelerator": "GPU",
    "gpuClass": "standard"
  },
  "cells": [
    {
      "cell_type": "markdown",
      "source": [
        "# CSE488\n",
        "## Spark Tutorial in pySpark\n",
        "\n",
        "In this tutorial you will learn how to use [Apache Spark](https://spark.apache.org) in local mode on a Colab enviroment.\n",
        "\n",
        "Credits to [Tiziano Piccardi](http://piccardi.me/) for his Spark Tutorial used in the Applied Data Analysis class at EPFL."
      ],
      "metadata": {
        "id": "8VYBt1cu-VjJ"
      }
    },
    {
      "cell_type": "markdown",
      "source": [
        "### Setup"
      ],
      "metadata": {
        "id": "0fGGa5vF-k8c"
      }
    },
    {
      "cell_type": "markdown",
      "source": [
        "Let's setup Spark on your Colab environment.  Run the cell below!"
      ],
      "metadata": {
        "id": "RE2sVM_h-mdu"
      }
    },
    {
      "cell_type": "code",
      "execution_count": 1,
      "metadata": {
        "colab": {
          "base_uri": "https://localhost:8080/"
        },
        "id": "GJqFKBUYBHtZ",
        "outputId": "d1ae7c66-2863-4b13-a740-1446e2db3285"
      },
      "outputs": [
        {
          "output_type": "stream",
          "name": "stdout",
          "text": [
            "Reading package lists... Done\n",
            "Building dependency tree... Done\n",
            "Reading state information... Done\n",
            "0 upgraded, 0 newly installed, 0 to remove and 6 not upgraded.\n"
          ]
        }
      ],
      "source": [
        "!apt autoremove"
      ]
    },
    {
      "cell_type": "code",
      "source": [
        "!pip install pyspark"
      ],
      "metadata": {
        "colab": {
          "base_uri": "https://localhost:8080/"
        },
        "id": "1b5a1QoSGnwD",
        "outputId": "32b544f7-c2db-454b-fc0e-5ee2b5baff8e"
      },
      "execution_count": 2,
      "outputs": [
        {
          "output_type": "stream",
          "name": "stdout",
          "text": [
            "Collecting pyspark\n",
            "  Downloading pyspark-3.5.0.tar.gz (316.9 MB)\n",
            "\u001b[2K     \u001b[90m━━━━━━━━━━━━━━━━━━━━━━━━━━━━━━━━━━━━━━━━\u001b[0m \u001b[32m316.9/316.9 MB\u001b[0m \u001b[31m2.5 MB/s\u001b[0m eta \u001b[36m0:00:00\u001b[0m\n",
            "\u001b[?25h  Preparing metadata (setup.py) ... \u001b[?25l\u001b[?25hdone\n",
            "Requirement already satisfied: py4j==0.10.9.7 in /usr/local/lib/python3.10/dist-packages (from pyspark) (0.10.9.7)\n",
            "Building wheels for collected packages: pyspark\n",
            "  Building wheel for pyspark (setup.py) ... \u001b[?25l\u001b[?25hdone\n",
            "  Created wheel for pyspark: filename=pyspark-3.5.0-py2.py3-none-any.whl size=317425344 sha256=ef2311d3b6addb4c73f07fb49cbff894750b2ba734ab9ea436d8fc42e76cdd3d\n",
            "  Stored in directory: /root/.cache/pip/wheels/41/4e/10/c2cf2467f71c678cfc8a6b9ac9241e5e44a01940da8fbb17fc\n",
            "Successfully built pyspark\n",
            "Installing collected packages: pyspark\n",
            "Successfully installed pyspark-3.5.0\n"
          ]
        }
      ]
    },
    {
      "cell_type": "code",
      "source": [
        "!pip install -U -q PyDrive"
      ],
      "metadata": {
        "id": "z2Kf_r_0GxeC"
      },
      "execution_count": 3,
      "outputs": []
    },
    {
      "cell_type": "code",
      "source": [
        "!apt install openjdk-8-jdk-headless -qq"
      ],
      "metadata": {
        "colab": {
          "base_uri": "https://localhost:8080/"
        },
        "id": "zXmG710vG35a",
        "outputId": "40d0d20b-2854-45ce-a5ff-4fc7b11b8aac"
      },
      "execution_count": 4,
      "outputs": [
        {
          "output_type": "stream",
          "name": "stdout",
          "text": [
            "The following additional packages will be installed:\n",
            "  libxtst6 openjdk-8-jre-headless\n",
            "Suggested packages:\n",
            "  openjdk-8-demo openjdk-8-source libnss-mdns fonts-dejavu-extra fonts-nanum fonts-ipafont-gothic\n",
            "  fonts-ipafont-mincho fonts-wqy-microhei fonts-wqy-zenhei fonts-indic\n",
            "The following NEW packages will be installed:\n",
            "  libxtst6 openjdk-8-jdk-headless openjdk-8-jre-headless\n",
            "0 upgraded, 3 newly installed, 0 to remove and 6 not upgraded.\n",
            "Need to get 39.7 MB of archives.\n",
            "After this operation, 144 MB of additional disk space will be used.\n",
            "Selecting previously unselected package libxtst6:amd64.\n",
            "(Reading database ... 120882 files and directories currently installed.)\n",
            "Preparing to unpack .../libxtst6_2%3a1.2.3-1build4_amd64.deb ...\n",
            "Unpacking libxtst6:amd64 (2:1.2.3-1build4) ...\n",
            "Selecting previously unselected package openjdk-8-jre-headless:amd64.\n",
            "Preparing to unpack .../openjdk-8-jre-headless_8u382-ga-1~22.04.1_amd64.deb ...\n",
            "Unpacking openjdk-8-jre-headless:amd64 (8u382-ga-1~22.04.1) ...\n",
            "Selecting previously unselected package openjdk-8-jdk-headless:amd64.\n",
            "Preparing to unpack .../openjdk-8-jdk-headless_8u382-ga-1~22.04.1_amd64.deb ...\n",
            "Unpacking openjdk-8-jdk-headless:amd64 (8u382-ga-1~22.04.1) ...\n",
            "Setting up libxtst6:amd64 (2:1.2.3-1build4) ...\n",
            "Setting up openjdk-8-jre-headless:amd64 (8u382-ga-1~22.04.1) ...\n",
            "update-alternatives: using /usr/lib/jvm/java-8-openjdk-amd64/jre/bin/orbd to provide /usr/bin/orbd (orbd) in auto mode\n",
            "update-alternatives: using /usr/lib/jvm/java-8-openjdk-amd64/jre/bin/servertool to provide /usr/bin/servertool (servertool) in auto mode\n",
            "update-alternatives: using /usr/lib/jvm/java-8-openjdk-amd64/jre/bin/tnameserv to provide /usr/bin/tnameserv (tnameserv) in auto mode\n",
            "Setting up openjdk-8-jdk-headless:amd64 (8u382-ga-1~22.04.1) ...\n",
            "update-alternatives: using /usr/lib/jvm/java-8-openjdk-amd64/bin/clhsdb to provide /usr/bin/clhsdb (clhsdb) in auto mode\n",
            "update-alternatives: using /usr/lib/jvm/java-8-openjdk-amd64/bin/extcheck to provide /usr/bin/extcheck (extcheck) in auto mode\n",
            "update-alternatives: using /usr/lib/jvm/java-8-openjdk-amd64/bin/hsdb to provide /usr/bin/hsdb (hsdb) in auto mode\n",
            "update-alternatives: using /usr/lib/jvm/java-8-openjdk-amd64/bin/idlj to provide /usr/bin/idlj (idlj) in auto mode\n",
            "update-alternatives: using /usr/lib/jvm/java-8-openjdk-amd64/bin/javah to provide /usr/bin/javah (javah) in auto mode\n",
            "update-alternatives: using /usr/lib/jvm/java-8-openjdk-amd64/bin/jhat to provide /usr/bin/jhat (jhat) in auto mode\n",
            "update-alternatives: using /usr/lib/jvm/java-8-openjdk-amd64/bin/jsadebugd to provide /usr/bin/jsadebugd (jsadebugd) in auto mode\n",
            "update-alternatives: using /usr/lib/jvm/java-8-openjdk-amd64/bin/native2ascii to provide /usr/bin/native2ascii (native2ascii) in auto mode\n",
            "update-alternatives: using /usr/lib/jvm/java-8-openjdk-amd64/bin/schemagen to provide /usr/bin/schemagen (schemagen) in auto mode\n",
            "update-alternatives: using /usr/lib/jvm/java-8-openjdk-amd64/bin/wsgen to provide /usr/bin/wsgen (wsgen) in auto mode\n",
            "update-alternatives: using /usr/lib/jvm/java-8-openjdk-amd64/bin/wsimport to provide /usr/bin/wsimport (wsimport) in auto mode\n",
            "update-alternatives: using /usr/lib/jvm/java-8-openjdk-amd64/bin/xjc to provide /usr/bin/xjc (xjc) in auto mode\n",
            "Processing triggers for libc-bin (2.35-0ubuntu3.4) ...\n",
            "/sbin/ldconfig.real: /usr/local/lib/libtbbbind_2_0.so.3 is not a symbolic link\n",
            "\n",
            "/sbin/ldconfig.real: /usr/local/lib/libtbbbind.so.3 is not a symbolic link\n",
            "\n",
            "/sbin/ldconfig.real: /usr/local/lib/libtbb.so.12 is not a symbolic link\n",
            "\n",
            "/sbin/ldconfig.real: /usr/local/lib/libtbbbind_2_5.so.3 is not a symbolic link\n",
            "\n",
            "/sbin/ldconfig.real: /usr/local/lib/libtbbmalloc_proxy.so.2 is not a symbolic link\n",
            "\n",
            "/sbin/ldconfig.real: /usr/local/lib/libtbbmalloc.so.2 is not a symbolic link\n",
            "\n"
          ]
        }
      ]
    },
    {
      "cell_type": "code",
      "source": [
        "import os\n",
        "os.environ[\"JAVA_HOME\"] = \"/usr/lib/jvm/java-8-openjdk-amd64\""
      ],
      "metadata": {
        "id": "aopxLcy7HB4y"
      },
      "execution_count": 5,
      "outputs": []
    },
    {
      "cell_type": "markdown",
      "source": [
        "Now we authenticate a Google Drive client to download the file we will be processing in our Spark job.\n",
        "\n",
        "**Make sure to follow the interactive instructions.**"
      ],
      "metadata": {
        "id": "LAP_xCkB-ywc"
      }
    },
    {
      "cell_type": "code",
      "source": [
        "from pydrive.auth import GoogleAuth\n",
        "from pydrive.drive import GoogleDrive\n",
        "from google.colab import auth\n",
        "from oauth2client.client import GoogleCredentials\n",
        "\n",
        "# Authenticate and create the PyDrive client\n",
        "auth.authenticate_user()\n",
        "gauth = GoogleAuth()\n",
        "gauth.credentials = GoogleCredentials.get_application_default()\n",
        "drive = GoogleDrive(gauth)"
      ],
      "metadata": {
        "id": "O-9Yno1RH3vZ"
      },
      "execution_count": 6,
      "outputs": []
    },
    {
      "cell_type": "code",
      "source": [
        "id='1L6pCQkldvdBoaEhRFzL0VnrggEFvqON4'\n",
        "downloaded = drive.CreateFile({'id': id})\n",
        "downloaded.GetContentFile('Bombing_Operations.json.gz')\n",
        "\n",
        "id='14dyBmcTBA32uXPxDbqr0bFDIzGxMTWwl'\n",
        "downloaded = drive.CreateFile({'id': id})\n",
        "downloaded.GetContentFile('Aircraft_Glossary.json.gz')"
      ],
      "metadata": {
        "id": "hb-ey62dIA7B"
      },
      "execution_count": 7,
      "outputs": []
    },
    {
      "cell_type": "code",
      "source": [
        "# Let's import the libraries we will need\n",
        "import pandas as pd\n",
        "import numpy as np\n",
        "import matplotlib.pyplot as plt\n",
        "%matplotlib inline\n",
        "\n",
        "import pyspark\n",
        "from pyspark.sql import *\n",
        "from pyspark.sql.functions import *\n",
        "from pyspark import SparkContext, SparkConf"
      ],
      "metadata": {
        "id": "TiPhWo74IQmC"
      },
      "execution_count": 8,
      "outputs": []
    },
    {
      "cell_type": "markdown",
      "source": [
        "Let's initialize the Spark context."
      ],
      "metadata": {
        "id": "srXtpNic-6Bp"
      }
    },
    {
      "cell_type": "code",
      "source": [
        "# create the session\n",
        "conf = SparkConf().set(\"spark.ui.port\", \"4050\")\n",
        "\n",
        "# create the context\n",
        "sc = pyspark.SparkContext(conf=conf)\n",
        "spark = SparkSession.builder.getOrCreate()"
      ],
      "metadata": {
        "id": "N7pGBRSGIatJ"
      },
      "execution_count": 9,
      "outputs": []
    },
    {
      "cell_type": "markdown",
      "source": [
        "You can easily check the current version and get the link of the web interface. In the Spark UI, you can monitor the progress of your job and debug the performance bottlenecks (if your Colab is running with a **local runtime**)."
      ],
      "metadata": {
        "id": "0ACW56q-_DPq"
      }
    },
    {
      "cell_type": "code",
      "source": [
        "spark"
      ],
      "metadata": {
        "colab": {
          "base_uri": "https://localhost:8080/",
          "height": 222
        },
        "id": "Y43QNR4tIlFp",
        "outputId": "973485a8-b530-49ed-8092-4b40bfb8a8a5"
      },
      "execution_count": 10,
      "outputs": [
        {
          "output_type": "execute_result",
          "data": {
            "text/plain": [
              "<pyspark.sql.session.SparkSession at 0x7a8da952cb20>"
            ],
            "text/html": [
              "\n",
              "            <div>\n",
              "                <p><b>SparkSession - in-memory</b></p>\n",
              "                \n",
              "        <div>\n",
              "            <p><b>SparkContext</b></p>\n",
              "\n",
              "            <p><a href=\"http://660859f4bcdd:4050\">Spark UI</a></p>\n",
              "\n",
              "            <dl>\n",
              "              <dt>Version</dt>\n",
              "                <dd><code>v3.5.0</code></dd>\n",
              "              <dt>Master</dt>\n",
              "                <dd><code>local[*]</code></dd>\n",
              "              <dt>AppName</dt>\n",
              "                <dd><code>pyspark-shell</code></dd>\n",
              "            </dl>\n",
              "        </div>\n",
              "        \n",
              "            </div>\n",
              "        "
            ]
          },
          "metadata": {},
          "execution_count": 10
        }
      ]
    },
    {
      "cell_type": "markdown",
      "source": [
        "If you are running this Colab on the Google hosted runtime, the cell below will create a ngrok tunnel which will allow you to still check the Spark UI."
      ],
      "metadata": {
        "id": "mBHrWRRI_Jbc"
      }
    },
    {
      "cell_type": "code",
      "source": [
        "!wget https://bin.equinox.io/c/4VmDzA7iaHb/ngrok-stable-linux-amd64.zip\n",
        "!unzip ngrok-stable-linux-amd64.zip\n",
        "get_ipython().system_raw('./ngrok http 4050 &')\n",
        "!curl -s http://localhost:4040/api/tunnels | python3 -c \\\n",
        "    \"import sys, json; print(json.load(sys.stdin)['tunnels'][0]['public_url'])\""
      ],
      "metadata": {
        "colab": {
          "base_uri": "https://localhost:8080/"
        },
        "id": "fM8Gk6DmIqQp",
        "outputId": "162345f6-aa66-49f1-ef03-5076702d3e53"
      },
      "execution_count": 11,
      "outputs": [
        {
          "output_type": "stream",
          "name": "stdout",
          "text": [
            "--2023-11-15 07:41:33--  https://bin.equinox.io/c/4VmDzA7iaHb/ngrok-stable-linux-amd64.zip\n",
            "Resolving bin.equinox.io (bin.equinox.io)... 54.237.133.81, 18.205.222.128, 52.202.168.65, ...\n",
            "Connecting to bin.equinox.io (bin.equinox.io)|54.237.133.81|:443... connected.\n",
            "HTTP request sent, awaiting response... 200 OK\n",
            "Length: 13921656 (13M) [application/octet-stream]\n",
            "Saving to: ‘ngrok-stable-linux-amd64.zip’\n",
            "\n",
            "ngrok-stable-linux- 100%[===================>]  13.28M  5.54MB/s    in 2.4s    \n",
            "\n",
            "2023-11-15 07:41:37 (5.54 MB/s) - ‘ngrok-stable-linux-amd64.zip’ saved [13921656/13921656]\n",
            "\n",
            "Archive:  ngrok-stable-linux-amd64.zip\n",
            "  inflating: ngrok                   \n",
            "Traceback (most recent call last):\n",
            "  File \"<string>\", line 1, in <module>\n",
            "  File \"/usr/lib/python3.10/json/__init__.py\", line 293, in load\n",
            "    return loads(fp.read(),\n",
            "  File \"/usr/lib/python3.10/json/__init__.py\", line 346, in loads\n",
            "    return _default_decoder.decode(s)\n",
            "  File \"/usr/lib/python3.10/json/decoder.py\", line 337, in decode\n",
            "    obj, end = self.raw_decode(s, idx=_w(s, 0).end())\n",
            "  File \"/usr/lib/python3.10/json/decoder.py\", line 355, in raw_decode\n",
            "    raise JSONDecodeError(\"Expecting value\", s, err.value) from None\n",
            "json.decoder.JSONDecodeError: Expecting value: line 1 column 1 (char 0)\n"
          ]
        }
      ]
    },
    {
      "cell_type": "markdown",
      "metadata": {
        "id": "gewv-lKMSagI"
      },
      "source": [
        "# Vietnam War\n",
        "\n",
        "**Pres. Johnson**: _What do you think about this Vietnam thing? I’d like to hear you talk a little bit._\n",
        "\n",
        "**Sen. Russell**: _Well, frankly, Mr. President, it’s the damn worse mess that I ever saw, and I don’t like to brag and I never have been right many times in my life, but I knew that we were going to get into this sort of mess when we went in there._\n",
        "\n",
        "May 27, 1964\n",
        "\n",
        "![banner](https://raw.githubusercontent.com/epfl-ada/2019/c17af0d3c73f11cb083717b7408fedd86245dc4d/Tutorials/04%20-%20Scaling%20Up/img/banner.jpg)"
      ]
    },
    {
      "cell_type": "markdown",
      "metadata": {
        "id": "skjUv84VSagJ"
      },
      "source": [
        "----\n",
        "\n",
        "The Vietnam War, also known as the Second Indochina War, and in Vietnam as the Resistance War Against America or simply the American War, was a conflict that occurred in Vietnam, Laos, and Cambodia from 1 November 1955 to the fall of Saigon on 30 April 1975. It was the second of the Indochina Wars and was officially fought between North Vietnam and the government of South Vietnam.\n",
        "\n",
        "**The dataset describes all the air force operation in during the Vietnam War.**\n",
        "\n",
        "**Bombing_Operations** [Get the dataset here](https://drive.google.com/a/epfl.ch/file/d/1L6pCQkldvdBoaEhRFzL0VnrggEFvqON4/view?usp=sharing)\n",
        "\n",
        "- AirCraft: _Aircraft model (example: EC-47)_\n",
        "- ContryFlyingMission: _Country_\n",
        "- MissionDate: _Date of the mission_\n",
        "- OperationSupported: _Supported War operation_ (example: [Operation Rolling Thunder](https://en.wikipedia.org/wiki/Operation_Rolling_Thunder))\n",
        "- PeriodOfDay: _Day or night_\n",
        "- TakeoffLocation: _Take off airport_\n",
        "- TimeOnTarget\n",
        "- WeaponType\n",
        "- WeaponsLoadedWeight\n",
        "\n",
        "**Aircraft_Glossary** [Get the dataset here](https://drive.google.com/a/epfl.ch/file/d/14dyBmcTBA32uXPxDbqr0bFDIzGxMTWwl/view?usp=sharing)\n",
        "\n",
        "- AirCraft: _Aircraft model (example: EC-47)_\n",
        "- AirCraftName\n",
        "- AirCraftType\n",
        "\n",
        "**Dataset Information:**\n",
        "\n",
        "THOR is a painstakingly cultivated database of historic aerial bombings from World War I through Vietnam. THOR has already proven useful in finding unexploded ordnance in Southeast Asia and improving Air Force combat tactics:\n",
        "https://www.kaggle.com/usaf/vietnam-war-bombing-operations"
      ]
    },
    {
      "cell_type": "markdown",
      "source": [
        "Loading the datset"
      ],
      "metadata": {
        "id": "ntkVmYooKsiJ"
      }
    },
    {
      "cell_type": "code",
      "source": [
        "Bombing_operation =spark.read.json(\"Bombing_Operations.json.gz\")"
      ],
      "metadata": {
        "id": "L3hkkcNCKrRJ"
      },
      "execution_count": 12,
      "outputs": []
    },
    {
      "cell_type": "code",
      "source": [
        "Aircraft_glossary = spark.read.json(\"Aircraft_Glossary.json.gz\")"
      ],
      "metadata": {
        "id": "ZYe9MJ3XKxaB"
      },
      "execution_count": 13,
      "outputs": []
    },
    {
      "cell_type": "markdown",
      "source": [
        "Showing the datset"
      ],
      "metadata": {
        "id": "WH9VrBWnLi1r"
      }
    },
    {
      "cell_type": "code",
      "source": [
        "Bombing_operation.show()"
      ],
      "metadata": {
        "colab": {
          "base_uri": "https://localhost:8080/"
        },
        "id": "zpcryVl6LmDg",
        "outputId": "769432e2-9734-4abe-8c17-9e950c4b004d"
      },
      "execution_count": 14,
      "outputs": [
        {
          "output_type": "stream",
          "name": "stdout",
          "text": [
            "+--------+--------------------+-----------+------------------+-----------+---------------+-------------+------------+--------------------+-------------------+\n",
            "|AirCraft| ContryFlyingMission|MissionDate|OperationSupported|PeriodOfDay|TakeoffLocation|TargetCountry|TimeOnTarget|          WeaponType|WeaponsLoadedWeight|\n",
            "+--------+--------------------+-----------+------------------+-----------+---------------+-------------+------------+--------------------+-------------------+\n",
            "|   EC-47|UNITED STATES OF ...| 1971-06-05|              NULL|          D|   TAN SON NHUT|     CAMBODIA|      1005.0|                NULL|                  0|\n",
            "|   EC-47|UNITED STATES OF ...| 1972-12-26|              NULL|          D|  NAKHON PHANOM|SOUTH VIETNAM|       530.0|                NULL|                  0|\n",
            "|    RF-4|UNITED STATES OF ...| 1973-07-28|              NULL|          D|       UDORN AB|         LAOS|       730.0|                NULL|                  0|\n",
            "|     A-1|UNITED STATES OF ...| 1970-02-02|              NULL|          N|  NAKHON PHANOM|         LAOS|      1415.0|BLU27 FIRE BOMB (...|              17400|\n",
            "|    A-37|     VIETNAM (SOUTH)| 1970-10-08|              NULL|          D|         DANANG|SOUTH VIETNAM|      1240.0|                NULL|                  0|\n",
            "|     F-4|UNITED STATES OF ...| 1970-11-25|              NULL|          D|        UBON AB|         LAOS|       650.0|MK 82 GP BOMB (50...|              31860|\n",
            "|     A-4|UNITED STATES OF ...| 1972-03-08|              NULL|          D|    TONKIN GULF|         LAOS|      1005.0|                NULL|                  0|\n",
            "|     F-4|UNITED STATES OF ...| 1971-12-27|              NULL|       NULL|       UDORN AB|         LAOS|         0.0|                NULL|                  0|\n",
            "|     A-7|UNITED STATES OF ...| 1972-05-24|              NULL|       NULL|    TONKIN GULF|NORTH VIETNAM|         0.0|                NULL|                  0|\n",
            "|   EC-47|UNITED STATES OF ...| 1972-09-12|              NULL|          D|   TAN SON NHUT|SOUTH VIETNAM|       710.0|                NULL|                  0|\n",
            "|   CH-53|UNITED STATES OF ...| 1974-06-13|              NULL|          N|  NAKHON PHANOM|     THAILAND|      1800.0|                NULL|                  0|\n",
            "|   CH-53|UNITED STATES OF ...| 1974-12-19|              NULL|          D|  NAKHON PHANOM|     THAILAND|       800.0|                NULL|                  0|\n",
            "|     O-1|     VIETNAM (SOUTH)| 1973-10-24|              NULL|          D|      NHA TRANG|SOUTH VIETNAM|       800.0|                NULL|                  0|\n",
            "|    UH-1|     VIETNAM (SOUTH)| 1974-03-19|              NULL|          D|        PHU CAT|SOUTH VIETNAM|       800.0|        CARGO (TONS)|                  0|\n",
            "|     C-7|UNITED STATES OF ...| 1970-05-08|              NULL|          D|   TAN SON NHUT|SOUTH VIETNAM|       800.0|                NULL|                  0|\n",
            "|     A-6|UNITED STATES OF ...| 1971-05-12|              NULL|          N|    TONKIN GULF|         LAOS|      1304.0|CBU24 AN PR/MT (B...|              33200|\n",
            "|   EB-66|UNITED STATES OF ...| 1971-12-03|              NULL|          N|          KORAT|         LAOS|      1445.0|                NULL|                  0|\n",
            "|    T-28|                LAOS| 1971-12-19|              NULL|          D|     SAVANAKHET|         LAOS|       230.0|                NULL|                  0|\n",
            "|     A-6|UNITED STATES OF ...| 1972-08-18|              NULL|       NULL|    TONKIN GULF|NORTH VIETNAM|         0.0|                NULL|                  0|\n",
            "|     A-7|UNITED STATES OF ...| 1972-10-15|              NULL|          D|    TONKIN GULF|NORTH VIETNAM|       110.0|                NULL|                  0|\n",
            "+--------+--------------------+-----------+------------------+-----------+---------------+-------------+------------+--------------------+-------------------+\n",
            "only showing top 20 rows\n",
            "\n"
          ]
        }
      ]
    },
    {
      "cell_type": "code",
      "source": [
        "Bombing_operation.take(5)"
      ],
      "metadata": {
        "colab": {
          "base_uri": "https://localhost:8080/"
        },
        "id": "-cpdRhjeMGIo",
        "outputId": "432fbe66-d866-4921-a29b-72861f9f5293"
      },
      "execution_count": 15,
      "outputs": [
        {
          "output_type": "execute_result",
          "data": {
            "text/plain": [
              "[Row(AirCraft='EC-47', ContryFlyingMission='UNITED STATES OF AMERICA', MissionDate='1971-06-05', OperationSupported=None, PeriodOfDay='D', TakeoffLocation='TAN SON NHUT', TargetCountry='CAMBODIA', TimeOnTarget=1005.0, WeaponType=None, WeaponsLoadedWeight=0),\n",
              " Row(AirCraft='EC-47', ContryFlyingMission='UNITED STATES OF AMERICA', MissionDate='1972-12-26', OperationSupported=None, PeriodOfDay='D', TakeoffLocation='NAKHON PHANOM', TargetCountry='SOUTH VIETNAM', TimeOnTarget=530.0, WeaponType=None, WeaponsLoadedWeight=0),\n",
              " Row(AirCraft='RF-4', ContryFlyingMission='UNITED STATES OF AMERICA', MissionDate='1973-07-28', OperationSupported=None, PeriodOfDay='D', TakeoffLocation='UDORN AB', TargetCountry='LAOS', TimeOnTarget=730.0, WeaponType=None, WeaponsLoadedWeight=0),\n",
              " Row(AirCraft='A-1', ContryFlyingMission='UNITED STATES OF AMERICA', MissionDate='1970-02-02', OperationSupported=None, PeriodOfDay='N', TakeoffLocation='NAKHON PHANOM', TargetCountry='LAOS', TimeOnTarget=1415.0, WeaponType='BLU27 FIRE BOMB (750)', WeaponsLoadedWeight=17400),\n",
              " Row(AirCraft='A-37', ContryFlyingMission='VIETNAM (SOUTH)', MissionDate='1970-10-08', OperationSupported=None, PeriodOfDay='D', TakeoffLocation='DANANG', TargetCountry='SOUTH VIETNAM', TimeOnTarget=1240.0, WeaponType=None, WeaponsLoadedWeight=0)]"
            ]
          },
          "metadata": {},
          "execution_count": 15
        }
      ]
    },
    {
      "cell_type": "markdown",
      "source": [
        "Showing the schema of JSON file"
      ],
      "metadata": {
        "id": "7AwigdEB_jd2"
      }
    },
    {
      "cell_type": "code",
      "source": [
        "Bombing_operation.printSchema()"
      ],
      "metadata": {
        "colab": {
          "base_uri": "https://localhost:8080/"
        },
        "id": "bL2tQrS3MlS4",
        "outputId": "91296d92-3887-4ac5-bd16-4cae82e60c55"
      },
      "execution_count": 16,
      "outputs": [
        {
          "output_type": "stream",
          "name": "stdout",
          "text": [
            "root\n",
            " |-- AirCraft: string (nullable = true)\n",
            " |-- ContryFlyingMission: string (nullable = true)\n",
            " |-- MissionDate: string (nullable = true)\n",
            " |-- OperationSupported: string (nullable = true)\n",
            " |-- PeriodOfDay: string (nullable = true)\n",
            " |-- TakeoffLocation: string (nullable = true)\n",
            " |-- TargetCountry: string (nullable = true)\n",
            " |-- TimeOnTarget: double (nullable = true)\n",
            " |-- WeaponType: string (nullable = true)\n",
            " |-- WeaponsLoadedWeight: long (nullable = true)\n",
            "\n"
          ]
        }
      ]
    },
    {
      "cell_type": "code",
      "source": [
        "Aircraft_glossary.show(80)"
      ],
      "metadata": {
        "colab": {
          "base_uri": "https://localhost:8080/"
        },
        "id": "bFgQXpsGLrHw",
        "outputId": "a201b260-d815-4ab0-edc9-556233e6f5fe"
      },
      "execution_count": 17,
      "outputs": [
        {
          "output_type": "stream",
          "name": "stdout",
          "text": [
            "+--------+--------------------+--------------------+\n",
            "|AirCraft|        AirCraftName|        AirCraftType|\n",
            "+--------+--------------------+--------------------+\n",
            "|     A-1|Douglas A-1 Skyra...|         Fighter Jet|\n",
            "|    A-26|Douglas A-26 Invader|        Light Bomber|\n",
            "|    A-37|Cessna A-37 Drago...|Light ground-atta...|\n",
            "|     A-4|McDonnell Douglas...|         Fighter Jet|\n",
            "|     A-5|North American A-...|          Bomber Jet|\n",
            "|     A-6|Grumman A-6 Intruder|     Attack Aircraft|\n",
            "|     A-7|  LTV A-7 Corsair II|     Attack Aircraft|\n",
            "|  AC-119|Fairchild AC-119 ...|Military Transpor...|\n",
            "|  AC-123|Fairchild C-123 P...|Military Transpor...|\n",
            "|  AC-130|Lockheed AC-130 S...|Fixed wing ground...|\n",
            "|   AC-47|Douglas AC-47 Spooky|Ground attack air...|\n",
            "|    AH-1| Bell AH-1 HueyCobra|          Helicopter|\n",
            "|     B-1| Rockwell B-1 Lancer|Heavy strategic b...|\n",
            "|    B-52| B-52 Stratofortress|    Strategic bomber|\n",
            "|    B-57|Martin B-57 Canberra|     Tactical Bomber|\n",
            "|    B-66|Douglas B-66 Dest...|        Light Bomber|\n",
            "|     C-1| Grumman C-1A Trader|           Transport|\n",
            "|   C-117|     C-117D Skytrain|           Transport|\n",
            "|   C-119|Fairchild C-119 F...|Military Transpor...|\n",
            "|   C-123|Fairchild C-123 P...|Military Transpor...|\n",
            "|   C-130|Lockheed C-130 He...|Military Transpor...|\n",
            "|    C-47|Douglas C-47 Skyt...|Military Transpor...|\n",
            "|    C-54|Douglas C-54 Skym...|Military Transpor...|\n",
            "|     C-7|       C-7A Caribou |Military Transpor...|\n",
            "|    C-76|Curtiss-Wright C-...|    Medium Transport|\n",
            "|   CH-46|Boeing Vertol CH-...|    Cargo Helicopter|\n",
            "|   CH-53|Sikorsky CH-53 Se...|Heavy-lift cargo ...|\n",
            "|    CH-3|      Sikorsky CH-3E|Heavy-lift cargo ...|\n",
            "|   CH-47|Boeing CH-47 Chinook|Transport Helicopter|\n",
            "|    DC-4|        Douglas DC-4|Airliner/transpor...|\n",
            "|    DC-8|        Douglas DC-8|Airliner/transpor...|\n",
            "|     E-2|Northrop Grumman ...|Early Warning air...|\n",
            "|     E-3|         E-3 Sentry |Early Warning air...|\n",
            "|    EA-3|    EA-3B Skywarrior|Heavy attack airc...|\n",
            "|    EA-1|     EA-1A Skyraider|     Attack Aircraft|\n",
            "|    EA-6|Northrop Grumman ...|         Fighter Jet|\n",
            "|   EB-66|Douglas B-66 Dest...|Light Tactical Bo...|\n",
            "|  EC-121|Lockheed EC-121 W...|Airborne early wa...|\n",
            "|   EC-47|Douglas C-47 Skyt...|Military Transpor...|\n",
            "|   EF-10|Douglas F3D Skykn...|         Fighter Jet|\n",
            "|   EKA-3|Douglas A-3 Skywa...|    Strategic Bomber|\n",
            "|    EP-3|      Lockheed EP-3 |Signals Intelligence|\n",
            "|     F-8| Vought F-8 Crusader|Carrier-based Fig...|\n",
            "|   F-100|North American F-...|  Jet Fighter Bomber|\n",
            "|   F-104|Lockheed F-104 St...|  Fighter Jet Bomber|\n",
            "|   F-105|Republic F-105 Th...|  Fighter Jet Bomber|\n",
            "|   F-111|General Dynamics ...|  Fighter Jet Bomber|\n",
            "|    F-14| Grumman F-14 Tomcat|         Fighter Jet|\n",
            "|     F-4|McDonnell Douglas...|  Fighter Jet Bomber|\n",
            "|     F-5|       Northrop F-5 |       Light fighter|\n",
            "|    F-10|Douglas F3D/F-10 ...|Carrier-base all-...|\n",
            "|     F-9|  Grumman F-9 Cougar|         Fighter Jet|\n",
            "|   FC-47|Douglas AC-47 Spooky|Close air support...|\n",
            "|    H-34|Sikorsky H-34 Cho...|Close -Support He...|\n",
            "|    H-47|Boeing CH-47 Chinook|Transport Helicopter|\n",
            "|  HC-130|     Lockheed HC-130|     Rescue Aircraft|\n",
            "|   HC-47|Douglas C-47 Skyt...|Military Transpor...|\n",
            "|    HH-3|Sikorsky HH-3 Jol...|Search and Rescue...|\n",
            "|   HH-43|  Kaman HH-43 Huskie|   Rescue Helicopter|\n",
            "|   HH-53|Sikorsky HH-53 Su...|Heavy-lift Helico...|\n",
            "|     KA3|Douglas A-3 Skywa...|    Strategic Bomber|\n",
            "|  KC-135|Boeing KC-135 Str...|Aerial refuelling...|\n",
            "|    L-19|         Cessna L-19|Observation Aircraft|\n",
            "|  LC-130|     Lockheed LC-130|Military Transpor...|\n",
            "|  NC-123|Fairchild C-123 P...|  Transport Aircraft|\n",
            "|     O-1| Cessna O-1 Bird Dog|Observation Aircraft|\n",
            "|     O-2|Cessna O-2 Skymaster|Observation Aircraft|\n",
            "|    OH-6|  Hughes OH-6 Cayuse|Light Observation...|\n",
            "|    OV-1| Grumman OV-1 Mohawk|Observation/ Ligh...|\n",
            "|   OV-10|Rockwell OV-10 Br...|Observation/ Ligh...|\n",
            "|     P-3|  Lockheed P-3 Orion|Maritime Patrol A...|\n",
            "|   QU-22|  Beechcraft Bonanza|    Utility Aircraft|\n",
            "|     R44|        Robinson R44|Light Utility Hel...|\n",
            "|    RA-3|Douglas A-3 Skywa...|    Strategic Bomber|\n",
            "|   RB-66|Douglas RB-66 Des...|        Light Bomber|\n",
            "|  RC-135|       Boeing RC-135|Reconnaissance Ai...|\n",
            "|   RC-47|Douglas C-47 Skyt...|Photographic reco...|\n",
            "|  RF-101|McDonnell F-101 V...|         Fighter Jet|\n",
            "|    RF-4|McDonnell F-4 Pha...|  Fighter bomber jet|\n",
            "|    RF-8| Vought F-8 Crusader|        Fighter jet |\n",
            "+--------+--------------------+--------------------+\n",
            "only showing top 80 rows\n",
            "\n"
          ]
        }
      ]
    },
    {
      "cell_type": "code",
      "source": [
        "Aircraft_glossary.take(5)"
      ],
      "metadata": {
        "colab": {
          "base_uri": "https://localhost:8080/"
        },
        "id": "QfMDSiPkMx8Y",
        "outputId": "14dd7739-cd62-486f-bfd7-a7f7395a7abe"
      },
      "execution_count": 18,
      "outputs": [
        {
          "output_type": "execute_result",
          "data": {
            "text/plain": [
              "[Row(AirCraft='A-1', AirCraftName='Douglas A-1 Skyraider', AirCraftType='Fighter Jet'),\n",
              " Row(AirCraft='A-26', AirCraftName='Douglas A-26 Invader', AirCraftType='Light Bomber'),\n",
              " Row(AirCraft='A-37', AirCraftName='Cessna A-37 Dragonfly', AirCraftType='Light ground-attack aircraft'),\n",
              " Row(AirCraft='A-4', AirCraftName='McDonnell Douglas A-4 Skyhawk', AirCraftType='Fighter Jet'),\n",
              " Row(AirCraft='A-5', AirCraftName='North American A-5 Vigilante', AirCraftType='Bomber Jet')]"
            ]
          },
          "metadata": {},
          "execution_count": 18
        }
      ]
    },
    {
      "cell_type": "code",
      "source": [
        "Aircraft_glossary.printSchema()"
      ],
      "metadata": {
        "colab": {
          "base_uri": "https://localhost:8080/"
        },
        "id": "_1FFcKANM4lg",
        "outputId": "cc8842e9-14e6-4887-cff3-22de8be0bd7c"
      },
      "execution_count": 19,
      "outputs": [
        {
          "output_type": "stream",
          "name": "stdout",
          "text": [
            "root\n",
            " |-- AirCraft: string (nullable = true)\n",
            " |-- AirCraftName: string (nullable = true)\n",
            " |-- AirCraftType: string (nullable = true)\n",
            "\n"
          ]
        }
      ]
    },
    {
      "cell_type": "markdown",
      "source": [
        "Executing The Query-SELECT"
      ],
      "metadata": {
        "id": "sxNpjHrkNUAa"
      }
    },
    {
      "cell_type": "code",
      "source": [
        "Bombing_operation.select(\"AirCraft\",\"ContryFlyingMission\",\"MissionDate\").show()"
      ],
      "metadata": {
        "colab": {
          "base_uri": "https://localhost:8080/"
        },
        "id": "C1RpI4jtNW4w",
        "outputId": "bf36f3ba-2b7e-40a1-ca9e-2321616016a4"
      },
      "execution_count": 20,
      "outputs": [
        {
          "output_type": "stream",
          "name": "stdout",
          "text": [
            "+--------+--------------------+-----------+\n",
            "|AirCraft| ContryFlyingMission|MissionDate|\n",
            "+--------+--------------------+-----------+\n",
            "|   EC-47|UNITED STATES OF ...| 1971-06-05|\n",
            "|   EC-47|UNITED STATES OF ...| 1972-12-26|\n",
            "|    RF-4|UNITED STATES OF ...| 1973-07-28|\n",
            "|     A-1|UNITED STATES OF ...| 1970-02-02|\n",
            "|    A-37|     VIETNAM (SOUTH)| 1970-10-08|\n",
            "|     F-4|UNITED STATES OF ...| 1970-11-25|\n",
            "|     A-4|UNITED STATES OF ...| 1972-03-08|\n",
            "|     F-4|UNITED STATES OF ...| 1971-12-27|\n",
            "|     A-7|UNITED STATES OF ...| 1972-05-24|\n",
            "|   EC-47|UNITED STATES OF ...| 1972-09-12|\n",
            "|   CH-53|UNITED STATES OF ...| 1974-06-13|\n",
            "|   CH-53|UNITED STATES OF ...| 1974-12-19|\n",
            "|     O-1|     VIETNAM (SOUTH)| 1973-10-24|\n",
            "|    UH-1|     VIETNAM (SOUTH)| 1974-03-19|\n",
            "|     C-7|UNITED STATES OF ...| 1970-05-08|\n",
            "|     A-6|UNITED STATES OF ...| 1971-05-12|\n",
            "|   EB-66|UNITED STATES OF ...| 1971-12-03|\n",
            "|    T-28|                LAOS| 1971-12-19|\n",
            "|     A-6|UNITED STATES OF ...| 1972-08-18|\n",
            "|     A-7|UNITED STATES OF ...| 1972-10-15|\n",
            "+--------+--------------------+-----------+\n",
            "only showing top 20 rows\n",
            "\n"
          ]
        }
      ]
    },
    {
      "cell_type": "code",
      "source": [
        "b1=Bombing_operation.select(\"AirCraft\",\"ContryFlyingMission\",\"MissionDate\")"
      ],
      "metadata": {
        "id": "SXfR6TY0OKRo"
      },
      "execution_count": 21,
      "outputs": []
    },
    {
      "cell_type": "code",
      "source": [
        "b1.show()"
      ],
      "metadata": {
        "colab": {
          "base_uri": "https://localhost:8080/"
        },
        "id": "hQZbccf6OOV4",
        "outputId": "dc3fa903-ac5f-4837-9ed6-85a2dfefaa0b"
      },
      "execution_count": 22,
      "outputs": [
        {
          "output_type": "stream",
          "name": "stdout",
          "text": [
            "+--------+--------------------+-----------+\n",
            "|AirCraft| ContryFlyingMission|MissionDate|\n",
            "+--------+--------------------+-----------+\n",
            "|   EC-47|UNITED STATES OF ...| 1971-06-05|\n",
            "|   EC-47|UNITED STATES OF ...| 1972-12-26|\n",
            "|    RF-4|UNITED STATES OF ...| 1973-07-28|\n",
            "|     A-1|UNITED STATES OF ...| 1970-02-02|\n",
            "|    A-37|     VIETNAM (SOUTH)| 1970-10-08|\n",
            "|     F-4|UNITED STATES OF ...| 1970-11-25|\n",
            "|     A-4|UNITED STATES OF ...| 1972-03-08|\n",
            "|     F-4|UNITED STATES OF ...| 1971-12-27|\n",
            "|     A-7|UNITED STATES OF ...| 1972-05-24|\n",
            "|   EC-47|UNITED STATES OF ...| 1972-09-12|\n",
            "|   CH-53|UNITED STATES OF ...| 1974-06-13|\n",
            "|   CH-53|UNITED STATES OF ...| 1974-12-19|\n",
            "|     O-1|     VIETNAM (SOUTH)| 1973-10-24|\n",
            "|    UH-1|     VIETNAM (SOUTH)| 1974-03-19|\n",
            "|     C-7|UNITED STATES OF ...| 1970-05-08|\n",
            "|     A-6|UNITED STATES OF ...| 1971-05-12|\n",
            "|   EB-66|UNITED STATES OF ...| 1971-12-03|\n",
            "|    T-28|                LAOS| 1971-12-19|\n",
            "|     A-6|UNITED STATES OF ...| 1972-08-18|\n",
            "|     A-7|UNITED STATES OF ...| 1972-10-15|\n",
            "+--------+--------------------+-----------+\n",
            "only showing top 20 rows\n",
            "\n"
          ]
        }
      ]
    },
    {
      "cell_type": "markdown",
      "source": [
        "Executing Queries Where"
      ],
      "metadata": {
        "id": "Bi_IPdF5OVzg"
      }
    },
    {
      "cell_type": "code",
      "source": [
        "b1.where(\"ContryFlyingMission=='VIETNAM (SOUTH)'\").show()"
      ],
      "metadata": {
        "colab": {
          "base_uri": "https://localhost:8080/"
        },
        "id": "W_uE-U_MOUx_",
        "outputId": "8652b233-fc32-4699-e242-6777f2f3b2c9"
      },
      "execution_count": 23,
      "outputs": [
        {
          "output_type": "stream",
          "name": "stdout",
          "text": [
            "+--------+-------------------+-----------+\n",
            "|AirCraft|ContryFlyingMission|MissionDate|\n",
            "+--------+-------------------+-----------+\n",
            "|    A-37|    VIETNAM (SOUTH)| 1970-10-08|\n",
            "|     O-1|    VIETNAM (SOUTH)| 1973-10-24|\n",
            "|    UH-1|    VIETNAM (SOUTH)| 1974-03-19|\n",
            "|   CH-47|    VIETNAM (SOUTH)| 1971-03-29|\n",
            "|   AC-47|    VIETNAM (SOUTH)| 1971-09-20|\n",
            "|    UH-1|    VIETNAM (SOUTH)| 1972-08-22|\n",
            "|    UH-1|    VIETNAM (SOUTH)| 1973-05-13|\n",
            "|   CH-47|    VIETNAM (SOUTH)| 1975-01-04|\n",
            "|    A-37|    VIETNAM (SOUTH)| 1971-02-08|\n",
            "|   C-119|    VIETNAM (SOUTH)| 1970-09-17|\n",
            "|    A-37|    VIETNAM (SOUTH)| 1971-04-02|\n",
            "|     A-1|    VIETNAM (SOUTH)| 1972-04-29|\n",
            "|     A-1|    VIETNAM (SOUTH)| 1972-08-02|\n",
            "|    UH-1|    VIETNAM (SOUTH)| 1973-10-24|\n",
            "|    UH-1|    VIETNAM (SOUTH)| 1974-12-16|\n",
            "|     A-1|    VIETNAM (SOUTH)| 1970-04-27|\n",
            "|    UH-1|    VIETNAM (SOUTH)| 1975-02-10|\n",
            "|    A-37|    VIETNAM (SOUTH)| 1971-03-03|\n",
            "|     O-1|    VIETNAM (SOUTH)| 1970-08-29|\n",
            "|     A-1|    VIETNAM (SOUTH)| 1971-07-29|\n",
            "+--------+-------------------+-----------+\n",
            "only showing top 20 rows\n",
            "\n"
          ]
        }
      ]
    },
    {
      "cell_type": "code",
      "source": [
        "b1.where(\"ContryFlyingMission=='VIETNAM (SOUTH)' OR ContryFlyingMission=='LAOS'\").show()"
      ],
      "metadata": {
        "colab": {
          "base_uri": "https://localhost:8080/"
        },
        "id": "8yqEOVpVPbsq",
        "outputId": "e077d442-a600-4d35-b005-c2e0d4ea02e5"
      },
      "execution_count": 24,
      "outputs": [
        {
          "output_type": "stream",
          "name": "stdout",
          "text": [
            "+--------+-------------------+-----------+\n",
            "|AirCraft|ContryFlyingMission|MissionDate|\n",
            "+--------+-------------------+-----------+\n",
            "|    A-37|    VIETNAM (SOUTH)| 1970-10-08|\n",
            "|     O-1|    VIETNAM (SOUTH)| 1973-10-24|\n",
            "|    UH-1|    VIETNAM (SOUTH)| 1974-03-19|\n",
            "|    T-28|               LAOS| 1971-12-19|\n",
            "|   CH-47|    VIETNAM (SOUTH)| 1971-03-29|\n",
            "|   AC-47|    VIETNAM (SOUTH)| 1971-09-20|\n",
            "|    UH-1|    VIETNAM (SOUTH)| 1972-08-22|\n",
            "|    UH-1|    VIETNAM (SOUTH)| 1973-05-13|\n",
            "|   CH-47|    VIETNAM (SOUTH)| 1975-01-04|\n",
            "|    A-37|    VIETNAM (SOUTH)| 1971-02-08|\n",
            "|    T-28|               LAOS| 1972-05-07|\n",
            "|   C-119|    VIETNAM (SOUTH)| 1970-09-17|\n",
            "|    A-37|    VIETNAM (SOUTH)| 1971-04-02|\n",
            "|     A-1|    VIETNAM (SOUTH)| 1972-04-29|\n",
            "|     A-1|    VIETNAM (SOUTH)| 1972-08-02|\n",
            "|    UH-1|    VIETNAM (SOUTH)| 1973-10-24|\n",
            "|    UH-1|    VIETNAM (SOUTH)| 1974-12-16|\n",
            "|     A-1|    VIETNAM (SOUTH)| 1970-04-27|\n",
            "|    UH-1|    VIETNAM (SOUTH)| 1975-02-10|\n",
            "|    A-37|    VIETNAM (SOUTH)| 1971-03-03|\n",
            "+--------+-------------------+-----------+\n",
            "only showing top 20 rows\n",
            "\n"
          ]
        }
      ]
    },
    {
      "cell_type": "markdown",
      "source": [
        "Executing queries in form of sql"
      ],
      "metadata": {
        "id": "sejDqY0yP8NJ"
      }
    },
    {
      "cell_type": "code",
      "source": [
        "Bombing_operation.createOrReplaceTempView(\"Bombing_operations\")\n",
        "\n",
        "query=  \"\"\"\n",
        "        SELECT AirCraft,ContryFlyingMission,MissionDate\n",
        "        FROM Bombing_operations\n",
        "        WHERE ContryFlyingMission=='VIETNAM (SOUTH)' OR ContryFlyingMission=='LAOS'\n",
        "        \"\"\"\n",
        "result=spark.sql(query)\n",
        "result.show()"
      ],
      "metadata": {
        "colab": {
          "base_uri": "https://localhost:8080/"
        },
        "id": "JazAwOChQbQ4",
        "outputId": "ff6a3572-8c2f-4af3-f754-73e8b6c293f9"
      },
      "execution_count": 25,
      "outputs": [
        {
          "output_type": "stream",
          "name": "stdout",
          "text": [
            "+--------+-------------------+-----------+\n",
            "|AirCraft|ContryFlyingMission|MissionDate|\n",
            "+--------+-------------------+-----------+\n",
            "|    A-37|    VIETNAM (SOUTH)| 1970-10-08|\n",
            "|     O-1|    VIETNAM (SOUTH)| 1973-10-24|\n",
            "|    UH-1|    VIETNAM (SOUTH)| 1974-03-19|\n",
            "|    T-28|               LAOS| 1971-12-19|\n",
            "|   CH-47|    VIETNAM (SOUTH)| 1971-03-29|\n",
            "|   AC-47|    VIETNAM (SOUTH)| 1971-09-20|\n",
            "|    UH-1|    VIETNAM (SOUTH)| 1972-08-22|\n",
            "|    UH-1|    VIETNAM (SOUTH)| 1973-05-13|\n",
            "|   CH-47|    VIETNAM (SOUTH)| 1975-01-04|\n",
            "|    A-37|    VIETNAM (SOUTH)| 1971-02-08|\n",
            "|    T-28|               LAOS| 1972-05-07|\n",
            "|   C-119|    VIETNAM (SOUTH)| 1970-09-17|\n",
            "|    A-37|    VIETNAM (SOUTH)| 1971-04-02|\n",
            "|     A-1|    VIETNAM (SOUTH)| 1972-04-29|\n",
            "|     A-1|    VIETNAM (SOUTH)| 1972-08-02|\n",
            "|    UH-1|    VIETNAM (SOUTH)| 1973-10-24|\n",
            "|    UH-1|    VIETNAM (SOUTH)| 1974-12-16|\n",
            "|     A-1|    VIETNAM (SOUTH)| 1970-04-27|\n",
            "|    UH-1|    VIETNAM (SOUTH)| 1975-02-10|\n",
            "|    A-37|    VIETNAM (SOUTH)| 1971-03-03|\n",
            "+--------+-------------------+-----------+\n",
            "only showing top 20 rows\n",
            "\n"
          ]
        }
      ]
    },
    {
      "cell_type": "code",
      "source": [
        "query1=\"\"\"SELECT COUNT(*) AS NUM_OF_ROWS FROM Bombing_operations\"\"\"\n",
        "res=spark.sql(query1)\n",
        "res.show()"
      ],
      "metadata": {
        "colab": {
          "base_uri": "https://localhost:8080/"
        },
        "id": "evK6RdUdRVB3",
        "outputId": "4ae2c831-bada-4475-b957-2f8a1d89cd19"
      },
      "execution_count": 26,
      "outputs": [
        {
          "output_type": "stream",
          "name": "stdout",
          "text": [
            "+-----------+\n",
            "|NUM_OF_ROWS|\n",
            "+-----------+\n",
            "|    4400775|\n",
            "+-----------+\n",
            "\n"
          ]
        }
      ]
    },
    {
      "cell_type": "markdown",
      "source": [
        "# **Lab Assignment**"
      ],
      "metadata": {
        "id": "-2WPUOAtUZpu"
      }
    },
    {
      "cell_type": "markdown",
      "source": [
        "## **Problem-1**"
      ],
      "metadata": {
        "id": "0bf_HJVC9Hjt"
      }
    },
    {
      "cell_type": "markdown",
      "source": [
        "Find the Air craft, country flying mission and target country for those missions in which time on target was less than 1000."
      ],
      "metadata": {
        "id": "o3MDEyrRVWoZ"
      }
    },
    {
      "cell_type": "code",
      "source": [
        "query=  \"\"\"\n",
        "        SELECT AirCraft,ContryFlyingMission,TargetCountry\n",
        "        FROM Bombing_operations\n",
        "        WHERE TimeOnTarget<1000\n",
        "        \"\"\"\n",
        "result=spark.sql(query)\n",
        "result.show()"
      ],
      "metadata": {
        "colab": {
          "base_uri": "https://localhost:8080/"
        },
        "id": "cqluvTlnRbrX",
        "outputId": "7db8f64e-da16-49b6-b122-2bfdf4ea8c84"
      },
      "execution_count": 27,
      "outputs": [
        {
          "output_type": "stream",
          "name": "stdout",
          "text": [
            "+--------+--------------------+-------------+\n",
            "|AirCraft| ContryFlyingMission|TargetCountry|\n",
            "+--------+--------------------+-------------+\n",
            "|   EC-47|UNITED STATES OF ...|SOUTH VIETNAM|\n",
            "|    RF-4|UNITED STATES OF ...|         LAOS|\n",
            "|     F-4|UNITED STATES OF ...|         LAOS|\n",
            "|     F-4|UNITED STATES OF ...|         LAOS|\n",
            "|     A-7|UNITED STATES OF ...|NORTH VIETNAM|\n",
            "|   EC-47|UNITED STATES OF ...|SOUTH VIETNAM|\n",
            "|   CH-53|UNITED STATES OF ...|     THAILAND|\n",
            "|     O-1|     VIETNAM (SOUTH)|SOUTH VIETNAM|\n",
            "|    UH-1|     VIETNAM (SOUTH)|SOUTH VIETNAM|\n",
            "|     C-7|UNITED STATES OF ...|SOUTH VIETNAM|\n",
            "|    T-28|                LAOS|         LAOS|\n",
            "|     A-6|UNITED STATES OF ...|NORTH VIETNAM|\n",
            "|     A-7|UNITED STATES OF ...|NORTH VIETNAM|\n",
            "|   C-123|UNITED STATES OF ...|SOUTH VIETNAM|\n",
            "|   CH-47|     VIETNAM (SOUTH)|SOUTH VIETNAM|\n",
            "|     F-4|UNITED STATES OF ...|SOUTH VIETNAM|\n",
            "|   AU-24|       KOREA (SOUTH)|     CAMBODIA|\n",
            "|  AC-130|UNITED STATES OF ...|     CAMBODIA|\n",
            "|    A-37|UNITED STATES OF ...|     CAMBODIA|\n",
            "|     F-4|UNITED STATES OF ...|         LAOS|\n",
            "+--------+--------------------+-------------+\n",
            "only showing top 20 rows\n",
            "\n"
          ]
        }
      ]
    },
    {
      "cell_type": "markdown",
      "source": [
        "## **Problem-2**"
      ],
      "metadata": {
        "id": "EWRz3zQtU0Qg"
      }
    },
    {
      "cell_type": "markdown",
      "source": [
        "Find the target country and the number of times they have been attacked. Show the result in descending order."
      ],
      "metadata": {
        "id": "rAC0lNenVbUP"
      }
    },
    {
      "cell_type": "code",
      "source": [
        "query=  \"\"\"\n",
        "        SELECT TargetCountry, count(*) AS num_of_times\n",
        "        FROM Bombing_operations\n",
        "        group by TargetCountry\n",
        "        order by num_of_times desc;\n",
        "        \"\"\"\n",
        "result=spark.sql(query)\n",
        "result.show()"
      ],
      "metadata": {
        "colab": {
          "base_uri": "https://localhost:8080/"
        },
        "id": "FPsUQCVHU2aP",
        "outputId": "7e6affe7-1e23-40b7-f0d9-c2ec160a49e5"
      },
      "execution_count": 28,
      "outputs": [
        {
          "output_type": "stream",
          "name": "stdout",
          "text": [
            "+--------------+------------+\n",
            "| TargetCountry|num_of_times|\n",
            "+--------------+------------+\n",
            "| SOUTH VIETNAM|     2172403|\n",
            "|          LAOS|     1254695|\n",
            "| NORTH VIETNAM|      694269|\n",
            "|      CAMBODIA|      218788|\n",
            "|      THAILAND|       60486|\n",
            "|WESTPAC WATERS|          74|\n",
            "|       UNKNOWN|          59|\n",
            "|   PHILLIPINES|           1|\n",
            "+--------------+------------+\n",
            "\n"
          ]
        }
      ]
    },
    {
      "cell_type": "markdown",
      "source": [
        "## **Problem-3**"
      ],
      "metadata": {
        "id": "PHUuW9lLWiB_"
      }
    },
    {
      "cell_type": "markdown",
      "source": [
        "Find the target country which had been attacked most."
      ],
      "metadata": {
        "id": "Y8FVNbaNVetX"
      }
    },
    {
      "cell_type": "code",
      "source": [
        "query=  \"\"\"\n",
        "        select TargetCountry\n",
        "        From(SELECT  TargetCountry, count(*) AS num_of_times\n",
        "        FROM Bombing_operations\n",
        "        group by TargetCountry\n",
        "        order by num_of_times desc) LIMIT 1;\n",
        "        \"\"\"\n",
        "result=spark.sql(query)\n",
        "result.show()"
      ],
      "metadata": {
        "id": "5fWM6NX5Wj5e",
        "colab": {
          "base_uri": "https://localhost:8080/"
        },
        "outputId": "4d48adf7-0cd2-443a-b939-eb929bbf2f4b"
      },
      "execution_count": 29,
      "outputs": [
        {
          "output_type": "stream",
          "name": "stdout",
          "text": [
            "+-------------+\n",
            "|TargetCountry|\n",
            "+-------------+\n",
            "|SOUTH VIETNAM|\n",
            "+-------------+\n",
            "\n"
          ]
        }
      ]
    },
    {
      "cell_type": "markdown",
      "source": [
        "## **Problem-4**"
      ],
      "metadata": {
        "id": "x1vP5qHAAKNI"
      }
    },
    {
      "cell_type": "markdown",
      "source": [
        "Find the country flying mission which attacked most."
      ],
      "metadata": {
        "id": "FM71e4ed6ncu"
      }
    },
    {
      "cell_type": "code",
      "source": [
        "query=  \"\"\"\n",
        "        select ContryFlyingMission\n",
        "        From(SELECT  ContryFlyingMission, count(*) AS num_of_times\n",
        "        FROM Bombing_operations\n",
        "        group by ContryFlyingMission\n",
        "        order by num_of_times desc) LIMIT 1;\n",
        "        \"\"\"\n",
        "result=spark.sql(query)\n",
        "result.show()"
      ],
      "metadata": {
        "colab": {
          "base_uri": "https://localhost:8080/"
        },
        "id": "R1XV7LstANO5",
        "outputId": "0f527e71-533c-4e86-d25b-c49f3eb943fd"
      },
      "execution_count": 30,
      "outputs": [
        {
          "output_type": "stream",
          "name": "stdout",
          "text": [
            "+--------------------+\n",
            "| ContryFlyingMission|\n",
            "+--------------------+\n",
            "|UNITED STATES OF ...|\n",
            "+--------------------+\n",
            "\n"
          ]
        }
      ]
    },
    {
      "cell_type": "markdown",
      "source": [
        "## **Problem-5**"
      ],
      "metadata": {
        "id": "_GkBWVGQBLea"
      }
    },
    {
      "cell_type": "markdown",
      "source": [
        " Find the take off location and how many times they had used."
      ],
      "metadata": {
        "id": "xHXU5FOhVk1P"
      }
    },
    {
      "cell_type": "code",
      "source": [
        "query = \"\"\"\n",
        "        SELECT TakeoffLocation, count(*) AS numOfTimes\n",
        "        FROM Bombing_operations\n",
        "        group by TakeoffLocation\n",
        "        order by numOfTimes desc\n",
        "        \"\"\"\n",
        "result = spark.sql(query)\n",
        "result.show()"
      ],
      "metadata": {
        "colab": {
          "base_uri": "https://localhost:8080/"
        },
        "id": "HJwsvjH1BNqp",
        "outputId": "e964e2b7-99af-43db-b8c9-a6652a2ff5ee"
      },
      "execution_count": 31,
      "outputs": [
        {
          "output_type": "stream",
          "name": "stdout",
          "text": [
            "+---------------+----------+\n",
            "|TakeoffLocation|numOfTimes|\n",
            "+---------------+----------+\n",
            "|       BIEN HOA|    492324|\n",
            "|         DANANG|    489942|\n",
            "|        UBON AB|    348822|\n",
            "|   TAN SON NHUT|    311872|\n",
            "|       UDORN AB|    306556|\n",
            "|        CHU LAI|    242096|\n",
            "|      PHAN RANG|    240238|\n",
            "|    TONKIN GULF|    194191|\n",
            "|  NAKHON PHANOM|    194069|\n",
            "|          KORAT|    191081|\n",
            "|      BINH THUY|    144003|\n",
            "|        TUY HOA|    122547|\n",
            "|         PLEIKU|    110322|\n",
            "|   CAM RANH BAY|     96373|\n",
            "|        U TAPAO|     85041|\n",
            "|           VTBI|     75873|\n",
            "|         TAKHLI|     65435|\n",
            "|      NHA TRANG|     56818|\n",
            "|           VVPU|     53814|\n",
            "|        PHU CAT|     50353|\n",
            "+---------------+----------+\n",
            "only showing top 20 rows\n",
            "\n"
          ]
        }
      ]
    },
    {
      "cell_type": "markdown",
      "source": [
        "## **Problem-6**"
      ],
      "metadata": {
        "id": "lYBLxuPnDL9Z"
      }
    },
    {
      "cell_type": "markdown",
      "source": [
        "Find the number of fighter jets from Aircraft_Glossary."
      ],
      "metadata": {
        "id": "gpWHgR5hVo6f"
      }
    },
    {
      "cell_type": "code",
      "source": [
        "Aircraft_glossary.createOrReplaceTempView(\"Aircraft_Glossary\")"
      ],
      "metadata": {
        "id": "JPbN3_pkGVVQ"
      },
      "execution_count": 32,
      "outputs": []
    },
    {
      "cell_type": "code",
      "source": [
        "query = \"\"\"\n",
        "        SELECT  count(AirCraftType) as Fighter_Jet\n",
        "        FROM Aircraft_Glossary\n",
        "        where AirCraftType=='Fighter Jet' or AirCraftType=='Fighter jet ' ;\n",
        "        \"\"\"\n",
        "result = spark.sql(query)\n",
        "result.show()"
      ],
      "metadata": {
        "colab": {
          "base_uri": "https://localhost:8080/"
        },
        "id": "CieBBvlUDPdu",
        "outputId": "16dedb75-7479-4899-a079-ef2d96c5e7ac"
      },
      "execution_count": 33,
      "outputs": [
        {
          "output_type": "stream",
          "name": "stdout",
          "text": [
            "+-----------+\n",
            "|Fighter_Jet|\n",
            "+-----------+\n",
            "|         11|\n",
            "+-----------+\n",
            "\n"
          ]
        }
      ]
    },
    {
      "cell_type": "markdown",
      "source": [
        "## **Problem-7**"
      ],
      "metadata": {
        "id": "nrb5YkJgKblA"
      }
    },
    {
      "cell_type": "markdown",
      "source": [
        "Find the number of different types air craft for each air craft type."
      ],
      "metadata": {
        "id": "e4GnkOg3VtD1"
      }
    },
    {
      "cell_type": "code",
      "source": [
        "query=  \"\"\"\n",
        "        SELECT AirCraftType, count(*) AS num_of_times\n",
        "        FROM Aircraft_glossary\n",
        "        group by AirCraftType\n",
        "        \"\"\"\n",
        "result=spark.sql(query)\n",
        "result.show()"
      ],
      "metadata": {
        "colab": {
          "base_uri": "https://localhost:8080/"
        },
        "id": "0rQb4Ox2MfUQ",
        "outputId": "12c90992-933d-4801-860f-1143820d3230"
      },
      "execution_count": 34,
      "outputs": [
        {
          "output_type": "stream",
          "name": "stdout",
          "text": [
            "+--------------------+------------+\n",
            "|        AirCraftType|num_of_times|\n",
            "+--------------------+------------+\n",
            "|Carrier-based Fig...|           1|\n",
            "|  Utility Prop plane|           1|\n",
            "|Early Warning air...|           2|\n",
            "|Military Transpor...|          11|\n",
            "|Heavy strategic b...|           1|\n",
            "|Airliner/transpor...|           3|\n",
            "|        Light Bomber|           3|\n",
            "|  Transport Aircraft|           1|\n",
            "|    Cargo Prop plane|           1|\n",
            "| Airliner/ Transport|           1|\n",
            "|Airborne early wa...|           1|\n",
            "|  Jet Fighter Bomber|           1|\n",
            "|Weather reconnais...|           1|\n",
            "|Light Observation...|           1|\n",
            "|Fixed wing ground...|           1|\n",
            "|        Fighter jet |           1|\n",
            "|Photographic reco...|           1|\n",
            "| Light Utility Plane|           3|\n",
            "|Close air support...|           1|\n",
            "|     Tactical Bomber|           1|\n",
            "+--------------------+------------+\n",
            "only showing top 20 rows\n",
            "\n"
          ]
        }
      ]
    },
    {
      "cell_type": "markdown",
      "source": [
        "## **Problem-8**"
      ],
      "metadata": {
        "id": "Vir_kzB3PKgQ"
      }
    },
    {
      "cell_type": "markdown",
      "source": [
        "Find the air craft name which had used most in attacks."
      ],
      "metadata": {
        "id": "hzPvNXW6Vwq-"
      }
    },
    {
      "cell_type": "code",
      "source": [
        "query=  \"\"\"\n",
        "        SELECT AirCraft\n",
        "           from(SELECT b.AirCraft , count(*) as most_use\n",
        "        FROM Aircraft_glossary a,Bombing_operations b\n",
        "        where a.AirCraft=b.AirCraft\n",
        "        group by b.AirCraft\n",
        "        order by most_use desc) LIMIT 1\n",
        "\n",
        "        \"\"\"\n",
        "result=spark.sql(query)\n",
        "result.show()"
      ],
      "metadata": {
        "colab": {
          "base_uri": "https://localhost:8080/"
        },
        "id": "vhjazkuSPJ8n",
        "outputId": "429d0cd9-7b91-450c-f317-50334cb92283"
      },
      "execution_count": 35,
      "outputs": [
        {
          "output_type": "stream",
          "name": "stdout",
          "text": [
            "+--------+\n",
            "|AirCraft|\n",
            "+--------+\n",
            "|     F-4|\n",
            "+--------+\n",
            "\n"
          ]
        }
      ]
    }
  ]
}