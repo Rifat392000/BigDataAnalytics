{
  "nbformat": 4,
  "nbformat_minor": 0,
  "metadata": {
    "colab": {
      "provenance": []
    },
    "kernelspec": {
      "name": "python3",
      "display_name": "Python 3"
    },
    "language_info": {
      "name": "python"
    }
  },
  "cells": [
    {
      "cell_type": "markdown",
      "source": [
        "# **Bloom Filter**"
      ],
      "metadata": {
        "id": "sR9yxq9TKdis"
      }
    },
    {
      "cell_type": "markdown",
      "source": [
        "### **https://youtu.be/kfFacplFY4Y**"
      ],
      "metadata": {
        "id": "9kHzqU1AKjVj"
      }
    },
    {
      "cell_type": "markdown",
      "source": [
        "Based on the given code of the Bloom Filter, do the followings."
      ],
      "metadata": {
        "id": "eo42llThEmVU"
      }
    },
    {
      "cell_type": "code",
      "execution_count": 28,
      "metadata": {
        "id": "w4EMGaQN9I1o",
        "colab": {
          "base_uri": "https://localhost:8080/"
        },
        "outputId": "290d9e64-328f-48ec-d76e-3aa43e384e68"
      },
      "outputs": [
        {
          "output_type": "stream",
          "name": "stdout",
          "text": [
            "Requirement already satisfied: bitarray in /usr/local/lib/python3.10/dist-packages (2.8.3)\n"
          ]
        }
      ],
      "source": [
        "!pip install bitarray"
      ]
    },
    {
      "cell_type": "code",
      "source": [
        "import hashlib\n",
        "from bitarray import bitarray\n",
        "\n",
        "class BloomFilter:\n",
        "    def __init__(self, size, num_hashes):\n",
        "        print(\"Item\\tHash_Function_Number\\t  Hash_Value\\tBloom_Filter\")\n",
        "        self.size = size\n",
        "        self.num_hashes = num_hashes\n",
        "        self.filter = bitarray(size)\n",
        "        self.filter.setall(0)\n",
        "\n",
        "    def hash_function(self, item, seed):\n",
        "        hash_value = hashlib.sha256(str(item).encode('utf-8') + str(seed).encode('utf-8')).hexdigest()\n",
        "        return int(hash_value, 16) % self.size\n",
        "\n",
        "    def add(self, item):\n",
        "        for seed in range(self.num_hashes):\n",
        "            index = self.hash_function(item, seed)\n",
        "            print(f\"{item}\\t\\t{seed}\\t\\t\\t{index}\\t{self.filter}\")\n",
        "            self.filter[index] = 1\n",
        "\n",
        "    def __contains__(self, item):\n",
        "        for seed in range(self.num_hashes):\n",
        "            index = self.hash_function(item, seed)\n",
        "            if not self.filter[index]:\n",
        "                return False\n",
        "        return True\n"
      ],
      "metadata": {
        "id": "5Z6EzyUB-XgT"
      },
      "execution_count": 29,
      "outputs": []
    },
    {
      "cell_type": "markdown",
      "source": [
        "### The __contains__() method is a built-in method in Python that is used for testing if a value is in a container object. It is automatically called when the in operator is used on an object.\n",
        "### self is a keyword that refers to the current class itself. It is used to access static or class variables or methods, which belong to the class rather than the object"
      ],
      "metadata": {
        "id": "42T5UwIjIz2e"
      }
    },
    {
      "cell_type": "markdown",
      "source": [
        "# **Lab Assignment**"
      ],
      "metadata": {
        "id": "Xfrzaw2LHwyK"
      }
    },
    {
      "cell_type": "markdown",
      "source": [
        "1. First add appropriate print statement to show the item/element, hash function number, the returned hash value and the content of the bloom filter. This report can be called as a Simulation Table."
      ],
      "metadata": {
        "id": "G2pZws4qEchm"
      }
    },
    {
      "cell_type": "code",
      "source": [
        "\n",
        "bf = BloomFilter(12, 5)\n",
        "bf.add(\"hello\")\n",
        "bf.add(\"world\")\n",
        "print(\"\\n\")\n",
        "print(\"hello\" in bf)  # True\n",
        "print(\"world\" in bf)  # True\n",
        "print(\"foo\" in bf)    # False"
      ],
      "metadata": {
        "id": "kAe5m8I--gXw",
        "colab": {
          "base_uri": "https://localhost:8080/"
        },
        "outputId": "dc08c5b6-7a63-44a1-8ebe-f9b176fcc933"
      },
      "execution_count": 30,
      "outputs": [
        {
          "output_type": "stream",
          "name": "stdout",
          "text": [
            "Item\tHash_Function_Number\t  Hash_Value\tBloom_Filter\n",
            "hello\t\t0\t\t\t4\tbitarray('000000000000')\n",
            "hello\t\t1\t\t\t11\tbitarray('000010000000')\n",
            "hello\t\t2\t\t\t8\tbitarray('000010000001')\n",
            "hello\t\t3\t\t\t4\tbitarray('000010001001')\n",
            "hello\t\t4\t\t\t11\tbitarray('000010001001')\n",
            "world\t\t0\t\t\t5\tbitarray('000010001001')\n",
            "world\t\t1\t\t\t6\tbitarray('000011001001')\n",
            "world\t\t2\t\t\t7\tbitarray('000011101001')\n",
            "world\t\t3\t\t\t2\tbitarray('000011111001')\n",
            "world\t\t4\t\t\t2\tbitarray('001011111001')\n",
            "\n",
            "\n",
            "True\n",
            "True\n",
            "False\n"
          ]
        }
      ]
    },
    {
      "cell_type": "markdown",
      "source": [
        "2. Second generate a case of false positive. Explain the formula or the method you have used to generate this case. Does it generic enough?\n",
        "While doing this simulation, the minimum size of the filter is more than 10 and the minimum hash function is 3."
      ],
      "metadata": {
        "id": "VTrz2goxEWEd"
      }
    },
    {
      "cell_type": "code",
      "source": [
        "\n",
        "bf = BloomFilter(12, 3)  # Number of Hash function is 3\n",
        "bf.add(\"hello\")\n",
        "bf.add(\"world\")"
      ],
      "metadata": {
        "id": "Ueu8WN56vTBn",
        "colab": {
          "base_uri": "https://localhost:8080/"
        },
        "outputId": "635f85d8-1823-457b-b9af-831782670c2a"
      },
      "execution_count": 33,
      "outputs": [
        {
          "output_type": "stream",
          "name": "stdout",
          "text": [
            "Item\tHash_Function_Number\t  Hash_Value\tBloom_Filter\n",
            "hello\t\t0\t\t\t4\tbitarray('000000000000')\n",
            "hello\t\t1\t\t\t11\tbitarray('000010000000')\n",
            "hello\t\t2\t\t\t8\tbitarray('000010000001')\n",
            "world\t\t0\t\t\t5\tbitarray('000010001001')\n",
            "world\t\t1\t\t\t6\tbitarray('000011001001')\n",
            "world\t\t2\t\t\t7\tbitarray('000011101001')\n"
          ]
        }
      ]
    },
    {
      "cell_type": "markdown",
      "source": [
        "## For example, choose the \"nepal\" keyword which is present or not in the string."
      ],
      "metadata": {
        "id": "lo7s--RtSjv5"
      }
    },
    {
      "cell_type": "code",
      "source": [
        "print(\"nepal\" in bf)    # False Positive Case"
      ],
      "metadata": {
        "colab": {
          "base_uri": "https://localhost:8080/"
        },
        "id": "fXZ1VYzeRma-",
        "outputId": "6e54e473-c023-4473-8994-0a805c9f7894"
      },
      "execution_count": 34,
      "outputs": [
        {
          "output_type": "stream",
          "name": "stdout",
          "text": [
            "True\n"
          ]
        }
      ]
    },
    {
      "cell_type": "code",
      "source": [
        "bf = BloomFilter(12, 5)   # Number of Hash function is 5\n",
        "bf.add(\"hello\")\n",
        "bf.add(\"world\")\n",
        "print(\"\\n\")"
      ],
      "metadata": {
        "colab": {
          "base_uri": "https://localhost:8080/"
        },
        "id": "kNGm_bjY1iBz",
        "outputId": "daec431b-9ad0-49de-a07a-f28f4ede0fd7"
      },
      "execution_count": 35,
      "outputs": [
        {
          "output_type": "stream",
          "name": "stdout",
          "text": [
            "Item\tHash_Function_Number\t  Hash_Value\tBloom_Filter\n",
            "hello\t\t0\t\t\t4\tbitarray('000000000000')\n",
            "hello\t\t1\t\t\t11\tbitarray('000010000000')\n",
            "hello\t\t2\t\t\t8\tbitarray('000010000001')\n",
            "hello\t\t3\t\t\t4\tbitarray('000010001001')\n",
            "hello\t\t4\t\t\t11\tbitarray('000010001001')\n",
            "world\t\t0\t\t\t5\tbitarray('000010001001')\n",
            "world\t\t1\t\t\t6\tbitarray('000011001001')\n",
            "world\t\t2\t\t\t7\tbitarray('000011101001')\n",
            "world\t\t3\t\t\t2\tbitarray('000011111001')\n",
            "world\t\t4\t\t\t2\tbitarray('001011111001')\n",
            "\n",
            "\n"
          ]
        }
      ]
    },
    {
      "cell_type": "code",
      "source": [
        "print(\"nepal\" in bf)    # False"
      ],
      "metadata": {
        "colab": {
          "base_uri": "https://localhost:8080/"
        },
        "id": "LXfZdMGHRte1",
        "outputId": "ea99b4d8-b647-45a1-bec3-8296824910b8"
      },
      "execution_count": 36,
      "outputs": [
        {
          "output_type": "stream",
          "name": "stdout",
          "text": [
            "False\n"
          ]
        }
      ]
    },
    {
      "cell_type": "markdown",
      "source": [
        "Here, we are checking the presence of the substring \"**nepal**\" in a given string. In the initial case, with **3 hash functions**, we observe a **False Positive** means **true**, indicating that \"**nepal**\" is present in the string, even though it is not. This occurrence highlights the susceptibility to **false positives** when using a limited number of hash functions. Conversely, when the number of hash functions is **increased to 5**, the result becomes **false**, demonstrating the impact of the hash function count on result accuracy. Adjusting the **number of hash functions is a key factor** in achieving more reliable outcomes. This method allows us to intentionally generate a False Positive case, emphasizing the significance of selecting an appropriate number of hash functions for accurate substring detection."
      ],
      "metadata": {
        "id": "DHwXX0vJ2rIS"
      }
    }
  ]
}