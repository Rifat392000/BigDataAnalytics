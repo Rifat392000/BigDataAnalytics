{
  "nbformat": 4,
  "nbformat_minor": 0,
  "metadata": {
    "colab": {
      "provenance": []
    },
    "kernelspec": {
      "name": "python3",
      "display_name": "Python 3"
    },
    "language_info": {
      "name": "python"
    }
  },
  "cells": [
    {
      "cell_type": "markdown",
      "source": [
        "Based on the given code of the Bloom Filter, do the followings."
      ],
      "metadata": {
        "id": "eo42llThEmVU"
      }
    },
    {
      "cell_type": "code",
      "execution_count": 6,
      "metadata": {
        "id": "w4EMGaQN9I1o",
        "colab": {
          "base_uri": "https://localhost:8080/"
        },
        "outputId": "f162830d-43c7-46e8-f7a4-ffcc26ca4ff1"
      },
      "outputs": [
        {
          "output_type": "stream",
          "name": "stdout",
          "text": [
            "Requirement already satisfied: bitarray in /usr/local/lib/python3.10/dist-packages (2.8.3)\n"
          ]
        }
      ],
      "source": [
        "!pip install bitarray"
      ]
    },
    {
      "cell_type": "code",
      "source": [
        "import hashlib\n",
        "from bitarray import bitarray\n",
        "\n",
        "class BloomFilter:\n",
        "    def __init__(self, size, num_hashes):\n",
        "        print(\"Item\\tHash_Function_Number\\t  Hash_Value\\tBloom_Filter\")\n",
        "        self.size = size\n",
        "        self.num_hashes = num_hashes\n",
        "        self.filter = bitarray(size)\n",
        "        self.filter.setall(0)\n",
        "\n",
        "    def hash_function(self, item, seed):\n",
        "        hash_value = hashlib.sha256(str(item).encode('utf-8') + str(seed).encode('utf-8')).hexdigest()\n",
        "        return int(hash_value, 16) % self.size\n",
        "\n",
        "    def add(self, item):\n",
        "        for seed in range(self.num_hashes):\n",
        "            index = self.hash_function(item, seed)\n",
        "            print(f\"{item}\\t\\t{seed}\\t\\t\\t{index}\\t{self.filter}\")\n",
        "            self.filter[index] = 1\n",
        "\n",
        "    def __contains__(self, item):\n",
        "        for seed in range(self.num_hashes):\n",
        "            index = self.hash_function(item, seed)\n",
        "            if not self.filter[index]:\n",
        "                return False\n",
        "        return True\n"
      ],
      "metadata": {
        "id": "5Z6EzyUB-XgT"
      },
      "execution_count": 7,
      "outputs": []
    },
    {
      "cell_type": "markdown",
      "source": [
        "### The __contains__() method is a built-in method in Python that is used for testing if a value is in a container object. It is automatically called when the in operator is used on an object.\n",
        "### self is a keyword that refers to the current class itself. It is used to access static or class variables or methods, which belong to the class rather than the object"
      ],
      "metadata": {
        "id": "42T5UwIjIz2e"
      }
    },
    {
      "cell_type": "markdown",
      "source": [
        "# **Lab Assignment**"
      ],
      "metadata": {
        "id": "Xfrzaw2LHwyK"
      }
    },
    {
      "cell_type": "markdown",
      "source": [
        "1. First add appropriate print statement to show the item/element, hash function number, the returned hash value and the content of the bloom filter. This report can be called as a Simulation Table."
      ],
      "metadata": {
        "id": "G2pZws4qEchm"
      }
    },
    {
      "cell_type": "code",
      "source": [
        "\n",
        "bf = BloomFilter(12, 5)\n",
        "bf.add(\"hello\")\n",
        "bf.add(\"world\")\n",
        "print(\"\\n\")\n",
        "print(\"hello\" in bf)  # True\n",
        "print(\"world\" in bf)  # True\n",
        "print(\"foo\" in bf)    # False"
      ],
      "metadata": {
        "id": "kAe5m8I--gXw",
        "colab": {
          "base_uri": "https://localhost:8080/"
        },
        "outputId": "082c3e26-3a06-4302-f98b-3bb2d5de610e"
      },
      "execution_count": 8,
      "outputs": [
        {
          "output_type": "stream",
          "name": "stdout",
          "text": [
            "Item\tHash_Function_Number\t  Hash_Value\tBloom_Filter\n",
            "hello\t\t0\t\t\t4\tbitarray('000000000000')\n",
            "hello\t\t1\t\t\t11\tbitarray('000010000000')\n",
            "hello\t\t2\t\t\t8\tbitarray('000010000001')\n",
            "hello\t\t3\t\t\t4\tbitarray('000010001001')\n",
            "hello\t\t4\t\t\t11\tbitarray('000010001001')\n",
            "world\t\t0\t\t\t5\tbitarray('000010001001')\n",
            "world\t\t1\t\t\t6\tbitarray('000011001001')\n",
            "world\t\t2\t\t\t7\tbitarray('000011101001')\n",
            "world\t\t3\t\t\t2\tbitarray('000011111001')\n",
            "world\t\t4\t\t\t2\tbitarray('001011111001')\n",
            "\n",
            "\n",
            "True\n",
            "True\n",
            "False\n"
          ]
        }
      ]
    },
    {
      "cell_type": "markdown",
      "source": [
        "2. Second generate a case of false positive. Explain the formula or the method you have used to generate this case. Does it generic enough?\n",
        "While doing this simulation, the minimum size of the filter is more than 10 and the minimum hash function is 3."
      ],
      "metadata": {
        "id": "VTrz2goxEWEd"
      }
    },
    {
      "cell_type": "code",
      "source": [
        "\n",
        "bf = BloomFilter(12, 3)  # Number of Hash function is 3\n",
        "bf.add(\"hello\")\n",
        "bf.add(\"world\")\n",
        "print(\"\\n\")\n",
        "\n",
        "print(\"twitr\" in bf)    # False Positive Case\n"
      ],
      "metadata": {
        "id": "Ueu8WN56vTBn",
        "colab": {
          "base_uri": "https://localhost:8080/"
        },
        "outputId": "83724323-254e-4322-8bb3-25ed374a9453"
      },
      "execution_count": 9,
      "outputs": [
        {
          "output_type": "stream",
          "name": "stdout",
          "text": [
            "Item\tHash_Function_Number\t  Hash_Value\tBloom_Filter\n",
            "hello\t\t0\t\t\t4\tbitarray('000000000000')\n",
            "hello\t\t1\t\t\t11\tbitarray('000010000000')\n",
            "hello\t\t2\t\t\t8\tbitarray('000010000001')\n",
            "world\t\t0\t\t\t5\tbitarray('000010001001')\n",
            "world\t\t1\t\t\t6\tbitarray('000011001001')\n",
            "world\t\t2\t\t\t7\tbitarray('000011101001')\n",
            "\n",
            "\n",
            "True\n"
          ]
        }
      ]
    },
    {
      "cell_type": "code",
      "source": [
        "bf = BloomFilter(12, 5)   # Number of Hash function is 5\n",
        "bf.add(\"hello\")\n",
        "bf.add(\"world\")\n",
        "print(\"\\n\")\n",
        "print(\"twitr\" in bf)    # False"
      ],
      "metadata": {
        "colab": {
          "base_uri": "https://localhost:8080/"
        },
        "id": "kNGm_bjY1iBz",
        "outputId": "48e2620a-bd79-470b-af78-277da300ae99"
      },
      "execution_count": 10,
      "outputs": [
        {
          "output_type": "stream",
          "name": "stdout",
          "text": [
            "Item\tHash_Function_Number\t  Hash_Value\tBloom_Filter\n",
            "hello\t\t0\t\t\t4\tbitarray('000000000000')\n",
            "hello\t\t1\t\t\t11\tbitarray('000010000000')\n",
            "hello\t\t2\t\t\t8\tbitarray('000010000001')\n",
            "hello\t\t3\t\t\t4\tbitarray('000010001001')\n",
            "hello\t\t4\t\t\t11\tbitarray('000010001001')\n",
            "world\t\t0\t\t\t5\tbitarray('000010001001')\n",
            "world\t\t1\t\t\t6\tbitarray('000011001001')\n",
            "world\t\t2\t\t\t7\tbitarray('000011101001')\n",
            "world\t\t3\t\t\t2\tbitarray('000011111001')\n",
            "world\t\t4\t\t\t2\tbitarray('001011111001')\n",
            "\n",
            "\n",
            "False\n"
          ]
        }
      ]
    },
    {
      "cell_type": "markdown",
      "source": [
        "Here, we are checking the presence of the substring \"twitr\" in a given string. In the initial case, with 3 hash functions, we observe a False Positive, indicating that \"twitr\" is present in the string, even though it is not. This occurrence highlights the susceptibility to false positives when using a limited number of hash functions. Conversely, when the number of hash functions is increased to 5, the result becomes false, demonstrating the impact of the hash function count on result accuracy. Adjusting the number of hash functions is a key factor in achieving more reliable outcomes. This method allows us to intentionally generate a False Positive case, emphasizing the significance of selecting an appropriate number of hash functions for accurate substring detection."
      ],
      "metadata": {
        "id": "DHwXX0vJ2rIS"
      }
    }
  ]
}